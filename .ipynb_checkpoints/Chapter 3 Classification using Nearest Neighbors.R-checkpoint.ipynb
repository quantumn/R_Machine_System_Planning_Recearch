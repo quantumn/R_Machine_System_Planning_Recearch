{
 "cells": [
  {
   "cell_type": "code",
   "execution_count": 1,
   "metadata": {
    "collapsed": true
   },
   "outputs": [],
   "source": [
    "##### Chapter 3: Classification using Nearest Neighbors --------------------"
   ]
  },
  {
   "cell_type": "code",
   "execution_count": 2,
   "metadata": {
    "collapsed": false
   },
   "outputs": [],
   "source": [
    "wbcd<- read.csv(\"wisc_bc_data.csv\",stringsAsFactors=FALSE)"
   ]
  },
  {
   "cell_type": "code",
   "execution_count": 3,
   "metadata": {
    "collapsed": false
   },
   "outputs": [
    {
     "name": "stdout",
     "output_type": "stream",
     "text": [
      "'data.frame':\t569 obs. of  32 variables:\n",
      " $ id               : int  87139402 8910251 905520 868871 9012568 906539 925291 87880 862989 89827 ...\n",
      " $ diagnosis        : chr  \"B\" \"B\" \"B\" \"B\" ...\n",
      " $ radius_mean      : num  12.3 10.6 11 11.3 15.2 ...\n",
      " $ texture_mean     : num  12.4 18.9 16.8 13.4 13.2 ...\n",
      " $ perimeter_mean   : num  78.8 69.3 70.9 73 97.7 ...\n",
      " $ area_mean        : num  464 346 373 385 712 ...\n",
      " $ smoothness_mean  : num  0.1028 0.0969 0.1077 0.1164 0.0796 ...\n",
      " $ compactness_mean : num  0.0698 0.1147 0.078 0.1136 0.0693 ...\n",
      " $ concavity_mean   : num  0.0399 0.0639 0.0305 0.0464 0.0339 ...\n",
      " $ points_mean      : num  0.037 0.0264 0.0248 0.048 0.0266 ...\n",
      " $ symmetry_mean    : num  0.196 0.192 0.171 0.177 0.172 ...\n",
      " $ dimension_mean   : num  0.0595 0.0649 0.0634 0.0607 0.0554 ...\n",
      " $ radius_se        : num  0.236 0.451 0.197 0.338 0.178 ...\n",
      " $ texture_se       : num  0.666 1.197 1.387 1.343 0.412 ...\n",
      " $ perimeter_se     : num  1.67 3.43 1.34 1.85 1.34 ...\n",
      " $ area_se          : num  17.4 27.1 13.5 26.3 17.7 ...\n",
      " $ smoothness_se    : num  0.00805 0.00747 0.00516 0.01127 0.00501 ...\n",
      " $ compactness_se   : num  0.0118 0.03581 0.00936 0.03498 0.01485 ...\n",
      " $ concavity_se     : num  0.0168 0.0335 0.0106 0.0219 0.0155 ...\n",
      " $ points_se        : num  0.01241 0.01365 0.00748 0.01965 0.00915 ...\n",
      " $ symmetry_se      : num  0.0192 0.035 0.0172 0.0158 0.0165 ...\n",
      " $ dimension_se     : num  0.00225 0.00332 0.0022 0.00344 0.00177 ...\n",
      " $ radius_worst     : num  13.5 11.9 12.4 11.9 16.2 ...\n",
      " $ texture_worst    : num  15.6 22.9 26.4 15.8 15.7 ...\n",
      " $ perimeter_worst  : num  87 78.3 79.9 76.5 104.5 ...\n",
      " $ area_worst       : num  549 425 471 434 819 ...\n",
      " $ smoothness_worst : num  0.139 0.121 0.137 0.137 0.113 ...\n",
      " $ compactness_worst: num  0.127 0.252 0.148 0.182 0.174 ...\n",
      " $ concavity_worst  : num  0.1242 0.1916 0.1067 0.0867 0.1362 ...\n",
      " $ points_worst     : num  0.0939 0.0793 0.0743 0.0861 0.0818 ...\n",
      " $ symmetry_worst   : num  0.283 0.294 0.3 0.21 0.249 ...\n",
      " $ dimension_worst  : num  0.0677 0.0759 0.0788 0.0678 0.0677 ...\n"
     ]
    }
   ],
   "source": [
    "str(wbcd)"
   ]
  },
  {
   "cell_type": "code",
   "execution_count": 4,
   "metadata": {
    "collapsed": false
   },
   "outputs": [
    {
     "data": {
      "text/html": [
       "<table>\n",
       "<thead><tr><th scope=col>id</th><th scope=col>diagnosis</th><th scope=col>radius_mean</th><th scope=col>texture_mean</th><th scope=col>perimeter_mean</th><th scope=col>area_mean</th><th scope=col>smoothness_mean</th><th scope=col>compactness_mean</th><th scope=col>concavity_mean</th><th scope=col>points_mean</th><th scope=col>⋯</th><th scope=col>radius_worst</th><th scope=col>texture_worst</th><th scope=col>perimeter_worst</th><th scope=col>area_worst</th><th scope=col>smoothness_worst</th><th scope=col>compactness_worst</th><th scope=col>concavity_worst</th><th scope=col>points_worst</th><th scope=col>symmetry_worst</th><th scope=col>dimension_worst</th></tr></thead>\n",
       "<tbody>\n",
       "\t<tr><td>87139402</td><td>B       </td><td>12.32   </td><td>12.39   </td><td>78.85   </td><td>464.1   </td><td>0.10280 </td><td>0.06981 </td><td>0.03987 </td><td>0.03700 </td><td>⋯       </td><td>13.50   </td><td>15.64   </td><td> 86.97  </td><td>549.1   </td><td>0.1385  </td><td>0.1266  </td><td>0.12420 </td><td>0.09391 </td><td>0.2827  </td><td>0.06771 </td></tr>\n",
       "\t<tr><td> 8910251</td><td>B       </td><td>10.60   </td><td>18.95   </td><td>69.28   </td><td>346.4   </td><td>0.09688 </td><td>0.11470 </td><td>0.06387 </td><td>0.02642 </td><td>⋯       </td><td>11.88   </td><td>22.94   </td><td> 78.28  </td><td>424.8   </td><td>0.1213  </td><td>0.2515  </td><td>0.19160 </td><td>0.07926 </td><td>0.2940  </td><td>0.07587 </td></tr>\n",
       "\t<tr><td>  905520</td><td>B       </td><td>11.04   </td><td>16.83   </td><td>70.92   </td><td>373.2   </td><td>0.10770 </td><td>0.07804 </td><td>0.03046 </td><td>0.02480 </td><td>⋯       </td><td>12.41   </td><td>26.44   </td><td> 79.93  </td><td>471.4   </td><td>0.1369  </td><td>0.1482  </td><td>0.10670 </td><td>0.07431 </td><td>0.2998  </td><td>0.07881 </td></tr>\n",
       "\t<tr><td>  868871</td><td>B       </td><td>11.28   </td><td>13.39   </td><td>73.00   </td><td>384.8   </td><td>0.11640 </td><td>0.11360 </td><td>0.04635 </td><td>0.04796 </td><td>⋯       </td><td>11.92   </td><td>15.77   </td><td> 76.53  </td><td>434.0   </td><td>0.1367  </td><td>0.1822  </td><td>0.08669 </td><td>0.08611 </td><td>0.2102  </td><td>0.06784 </td></tr>\n",
       "\t<tr><td> 9012568</td><td>B       </td><td>15.19   </td><td>13.21   </td><td>97.65   </td><td>711.8   </td><td>0.07963 </td><td>0.06934 </td><td>0.03393 </td><td>0.02657 </td><td>⋯       </td><td>16.20   </td><td>15.73   </td><td>104.50  </td><td>819.1   </td><td>0.1126  </td><td>0.1737  </td><td>0.13620 </td><td>0.08178 </td><td>0.2487  </td><td>0.06766 </td></tr>\n",
       "\t<tr><td>  906539</td><td>B       </td><td>11.57   </td><td>19.04   </td><td>74.20   </td><td>409.7   </td><td>0.08546 </td><td>0.07722 </td><td>0.05485 </td><td>0.01428 </td><td>⋯       </td><td>13.07   </td><td>26.98   </td><td> 86.43  </td><td>520.5   </td><td>0.1249  </td><td>0.1937  </td><td>0.25600 </td><td>0.06664 </td><td>0.3035  </td><td>0.08284 </td></tr>\n",
       "</tbody>\n",
       "</table>\n"
      ],
      "text/latex": [
       "\\begin{tabular}{r|llllllllllllllllllllllllllllllll}\n",
       " id & diagnosis & radius\\_mean & texture\\_mean & perimeter\\_mean & area\\_mean & smoothness\\_mean & compactness\\_mean & concavity\\_mean & points\\_mean & ⋯ & radius\\_worst & texture\\_worst & perimeter\\_worst & area\\_worst & smoothness\\_worst & compactness\\_worst & concavity\\_worst & points\\_worst & symmetry\\_worst & dimension\\_worst\\\\\n",
       "\\hline\n",
       "\t 87139402 & B        & 12.32    & 12.39    & 78.85    & 464.1    & 0.10280  & 0.06981  & 0.03987  & 0.03700  & ⋯        & 13.50    & 15.64    &  86.97   & 549.1    & 0.1385   & 0.1266   & 0.12420  & 0.09391  & 0.2827   & 0.06771 \\\\\n",
       "\t  8910251 & B        & 10.60    & 18.95    & 69.28    & 346.4    & 0.09688  & 0.11470  & 0.06387  & 0.02642  & ⋯        & 11.88    & 22.94    &  78.28   & 424.8    & 0.1213   & 0.2515   & 0.19160  & 0.07926  & 0.2940   & 0.07587 \\\\\n",
       "\t   905520 & B        & 11.04    & 16.83    & 70.92    & 373.2    & 0.10770  & 0.07804  & 0.03046  & 0.02480  & ⋯        & 12.41    & 26.44    &  79.93   & 471.4    & 0.1369   & 0.1482   & 0.10670  & 0.07431  & 0.2998   & 0.07881 \\\\\n",
       "\t   868871 & B        & 11.28    & 13.39    & 73.00    & 384.8    & 0.11640  & 0.11360  & 0.04635  & 0.04796  & ⋯        & 11.92    & 15.77    &  76.53   & 434.0    & 0.1367   & 0.1822   & 0.08669  & 0.08611  & 0.2102   & 0.06784 \\\\\n",
       "\t  9012568 & B        & 15.19    & 13.21    & 97.65    & 711.8    & 0.07963  & 0.06934  & 0.03393  & 0.02657  & ⋯        & 16.20    & 15.73    & 104.50   & 819.1    & 0.1126   & 0.1737   & 0.13620  & 0.08178  & 0.2487   & 0.06766 \\\\\n",
       "\t   906539 & B        & 11.57    & 19.04    & 74.20    & 409.7    & 0.08546  & 0.07722  & 0.05485  & 0.01428  & ⋯        & 13.07    & 26.98    &  86.43   & 520.5    & 0.1249   & 0.1937   & 0.25600  & 0.06664  & 0.3035   & 0.08284 \\\\\n",
       "\\end{tabular}\n"
      ],
      "text/markdown": [
       "\n",
       "id | diagnosis | radius_mean | texture_mean | perimeter_mean | area_mean | smoothness_mean | compactness_mean | concavity_mean | points_mean | ⋯ | radius_worst | texture_worst | perimeter_worst | area_worst | smoothness_worst | compactness_worst | concavity_worst | points_worst | symmetry_worst | dimension_worst | \n",
       "|---|---|---|---|---|---|\n",
       "| 87139402 | B        | 12.32    | 12.39    | 78.85    | 464.1    | 0.10280  | 0.06981  | 0.03987  | 0.03700  | ⋯        | 13.50    | 15.64    |  86.97   | 549.1    | 0.1385   | 0.1266   | 0.12420  | 0.09391  | 0.2827   | 0.06771  | \n",
       "|  8910251 | B        | 10.60    | 18.95    | 69.28    | 346.4    | 0.09688  | 0.11470  | 0.06387  | 0.02642  | ⋯        | 11.88    | 22.94    |  78.28   | 424.8    | 0.1213   | 0.2515   | 0.19160  | 0.07926  | 0.2940   | 0.07587  | \n",
       "|   905520 | B        | 11.04    | 16.83    | 70.92    | 373.2    | 0.10770  | 0.07804  | 0.03046  | 0.02480  | ⋯        | 12.41    | 26.44    |  79.93   | 471.4    | 0.1369   | 0.1482   | 0.10670  | 0.07431  | 0.2998   | 0.07881  | \n",
       "|   868871 | B        | 11.28    | 13.39    | 73.00    | 384.8    | 0.11640  | 0.11360  | 0.04635  | 0.04796  | ⋯        | 11.92    | 15.77    |  76.53   | 434.0    | 0.1367   | 0.1822   | 0.08669  | 0.08611  | 0.2102   | 0.06784  | \n",
       "|  9012568 | B        | 15.19    | 13.21    | 97.65    | 711.8    | 0.07963  | 0.06934  | 0.03393  | 0.02657  | ⋯        | 16.20    | 15.73    | 104.50   | 819.1    | 0.1126   | 0.1737   | 0.13620  | 0.08178  | 0.2487   | 0.06766  | \n",
       "|   906539 | B        | 11.57    | 19.04    | 74.20    | 409.7    | 0.08546  | 0.07722  | 0.05485  | 0.01428  | ⋯        | 13.07    | 26.98    |  86.43   | 520.5    | 0.1249   | 0.1937   | 0.25600  | 0.06664  | 0.3035   | 0.08284  | \n",
       "\n",
       "\n"
      ],
      "text/plain": [
       "  id       diagnosis radius_mean texture_mean perimeter_mean area_mean\n",
       "1 87139402 B         12.32       12.39        78.85          464.1    \n",
       "2  8910251 B         10.60       18.95        69.28          346.4    \n",
       "3   905520 B         11.04       16.83        70.92          373.2    \n",
       "4   868871 B         11.28       13.39        73.00          384.8    \n",
       "5  9012568 B         15.19       13.21        97.65          711.8    \n",
       "6   906539 B         11.57       19.04        74.20          409.7    \n",
       "  smoothness_mean compactness_mean concavity_mean points_mean ⋯ radius_worst\n",
       "1 0.10280         0.06981          0.03987        0.03700     ⋯ 13.50       \n",
       "2 0.09688         0.11470          0.06387        0.02642     ⋯ 11.88       \n",
       "3 0.10770         0.07804          0.03046        0.02480     ⋯ 12.41       \n",
       "4 0.11640         0.11360          0.04635        0.04796     ⋯ 11.92       \n",
       "5 0.07963         0.06934          0.03393        0.02657     ⋯ 16.20       \n",
       "6 0.08546         0.07722          0.05485        0.01428     ⋯ 13.07       \n",
       "  texture_worst perimeter_worst area_worst smoothness_worst compactness_worst\n",
       "1 15.64          86.97          549.1      0.1385           0.1266           \n",
       "2 22.94          78.28          424.8      0.1213           0.2515           \n",
       "3 26.44          79.93          471.4      0.1369           0.1482           \n",
       "4 15.77          76.53          434.0      0.1367           0.1822           \n",
       "5 15.73         104.50          819.1      0.1126           0.1737           \n",
       "6 26.98          86.43          520.5      0.1249           0.1937           \n",
       "  concavity_worst points_worst symmetry_worst dimension_worst\n",
       "1 0.12420         0.09391      0.2827         0.06771        \n",
       "2 0.19160         0.07926      0.2940         0.07587        \n",
       "3 0.10670         0.07431      0.2998         0.07881        \n",
       "4 0.08669         0.08611      0.2102         0.06784        \n",
       "5 0.13620         0.08178      0.2487         0.06766        \n",
       "6 0.25600         0.06664      0.3035         0.08284        "
      ]
     },
     "metadata": {},
     "output_type": "display_data"
    }
   ],
   "source": [
    "head(wbcd)"
   ]
  },
  {
   "cell_type": "code",
   "execution_count": 5,
   "metadata": {
    "collapsed": false
   },
   "outputs": [
    {
     "data": {
      "text/html": [
       "<table>\n",
       "<thead><tr><th></th><th scope=col>id</th><th scope=col>diagnosis</th><th scope=col>radius_mean</th><th scope=col>texture_mean</th><th scope=col>perimeter_mean</th><th scope=col>area_mean</th><th scope=col>smoothness_mean</th><th scope=col>compactness_mean</th><th scope=col>concavity_mean</th><th scope=col>points_mean</th><th scope=col>⋯</th><th scope=col>radius_worst</th><th scope=col>texture_worst</th><th scope=col>perimeter_worst</th><th scope=col>area_worst</th><th scope=col>smoothness_worst</th><th scope=col>compactness_worst</th><th scope=col>concavity_worst</th><th scope=col>points_worst</th><th scope=col>symmetry_worst</th><th scope=col>dimension_worst</th></tr></thead>\n",
       "<tbody>\n",
       "\t<tr><th scope=row>564</th><td>   894855</td><td>B        </td><td>12.86    </td><td>13.32    </td><td> 82.82   </td><td> 504.8   </td><td>0.11340  </td><td>0.08834  </td><td>0.03800  </td><td>0.03400  </td><td>⋯        </td><td>14.04    </td><td>21.08    </td><td> 92.80   </td><td> 599.5   </td><td>0.1547   </td><td>0.2231   </td><td>0.17910  </td><td>0.11550  </td><td>0.2382   </td><td>0.08553  </td></tr>\n",
       "\t<tr><th scope=row>565</th><td>911320502</td><td>B        </td><td>13.17    </td><td>18.22    </td><td> 84.28   </td><td> 537.3   </td><td>0.07466  </td><td>0.05994  </td><td>0.04859  </td><td>0.02870  </td><td>⋯        </td><td>14.90    </td><td>23.89    </td><td> 95.10   </td><td> 687.6   </td><td>0.1282   </td><td>0.1965   </td><td>0.18760  </td><td>0.10450  </td><td>0.2235   </td><td>0.06925  </td></tr>\n",
       "\t<tr><th scope=row>566</th><td>   898677</td><td>B        </td><td>10.26    </td><td>14.71    </td><td> 66.20   </td><td> 321.6   </td><td>0.09882  </td><td>0.09159  </td><td>0.03581  </td><td>0.02037  </td><td>⋯        </td><td>10.88    </td><td>19.48    </td><td> 70.89   </td><td> 357.1   </td><td>0.1360   </td><td>0.1636   </td><td>0.07162  </td><td>0.04074  </td><td>0.2434   </td><td>0.08488  </td></tr>\n",
       "\t<tr><th scope=row>567</th><td>   873885</td><td>M        </td><td>15.28    </td><td>22.41    </td><td> 98.92   </td><td> 710.6   </td><td>0.09057  </td><td>0.10520  </td><td>0.05375  </td><td>0.03263  </td><td>⋯        </td><td>17.80    </td><td>28.03    </td><td>113.80   </td><td> 973.1   </td><td>0.1301   </td><td>0.3299   </td><td>0.36300  </td><td>0.12260  </td><td>0.3175   </td><td>0.09772  </td></tr>\n",
       "\t<tr><th scope=row>568</th><td>   911201</td><td>B        </td><td>14.53    </td><td>13.98    </td><td> 93.86   </td><td> 644.2   </td><td>0.10990  </td><td>0.09242  </td><td>0.06895  </td><td>0.06495  </td><td>⋯        </td><td>15.80    </td><td>16.93    </td><td>103.10   </td><td> 749.9   </td><td>0.1347   </td><td>0.1478   </td><td>0.13730  </td><td>0.10690  </td><td>0.2606   </td><td>0.07810  </td></tr>\n",
       "\t<tr><th scope=row>569</th><td>  9012795</td><td>M        </td><td>21.37    </td><td>15.10    </td><td>141.30   </td><td>1386.0   </td><td>0.10010  </td><td>0.15150  </td><td>0.19320  </td><td>0.12550  </td><td>⋯        </td><td>22.69    </td><td>21.84    </td><td>152.10   </td><td>1535.0   </td><td>0.1192   </td><td>0.2840   </td><td>0.40240  </td><td>0.19660  </td><td>0.2730   </td><td>0.08666  </td></tr>\n",
       "</tbody>\n",
       "</table>\n"
      ],
      "text/latex": [
       "\\begin{tabular}{r|llllllllllllllllllllllllllllllll}\n",
       "  & id & diagnosis & radius\\_mean & texture\\_mean & perimeter\\_mean & area\\_mean & smoothness\\_mean & compactness\\_mean & concavity\\_mean & points\\_mean & ⋯ & radius\\_worst & texture\\_worst & perimeter\\_worst & area\\_worst & smoothness\\_worst & compactness\\_worst & concavity\\_worst & points\\_worst & symmetry\\_worst & dimension\\_worst\\\\\n",
       "\\hline\n",
       "\t564 &    894855 & B         & 12.86     & 13.32     &  82.82    &  504.8    & 0.11340   & 0.08834   & 0.03800   & 0.03400   & ⋯         & 14.04     & 21.08     &  92.80    &  599.5    & 0.1547    & 0.2231    & 0.17910   & 0.11550   & 0.2382    & 0.08553  \\\\\n",
       "\t565 & 911320502 & B         & 13.17     & 18.22     &  84.28    &  537.3    & 0.07466   & 0.05994   & 0.04859   & 0.02870   & ⋯         & 14.90     & 23.89     &  95.10    &  687.6    & 0.1282    & 0.1965    & 0.18760   & 0.10450   & 0.2235    & 0.06925  \\\\\n",
       "\t566 &    898677 & B         & 10.26     & 14.71     &  66.20    &  321.6    & 0.09882   & 0.09159   & 0.03581   & 0.02037   & ⋯         & 10.88     & 19.48     &  70.89    &  357.1    & 0.1360    & 0.1636    & 0.07162   & 0.04074   & 0.2434    & 0.08488  \\\\\n",
       "\t567 &    873885 & M         & 15.28     & 22.41     &  98.92    &  710.6    & 0.09057   & 0.10520   & 0.05375   & 0.03263   & ⋯         & 17.80     & 28.03     & 113.80    &  973.1    & 0.1301    & 0.3299    & 0.36300   & 0.12260   & 0.3175    & 0.09772  \\\\\n",
       "\t568 &    911201 & B         & 14.53     & 13.98     &  93.86    &  644.2    & 0.10990   & 0.09242   & 0.06895   & 0.06495   & ⋯         & 15.80     & 16.93     & 103.10    &  749.9    & 0.1347    & 0.1478    & 0.13730   & 0.10690   & 0.2606    & 0.07810  \\\\\n",
       "\t569 &   9012795 & M         & 21.37     & 15.10     & 141.30    & 1386.0    & 0.10010   & 0.15150   & 0.19320   & 0.12550   & ⋯         & 22.69     & 21.84     & 152.10    & 1535.0    & 0.1192    & 0.2840    & 0.40240   & 0.19660   & 0.2730    & 0.08666  \\\\\n",
       "\\end{tabular}\n"
      ],
      "text/markdown": [
       "\n",
       "| <!--/--> | id | diagnosis | radius_mean | texture_mean | perimeter_mean | area_mean | smoothness_mean | compactness_mean | concavity_mean | points_mean | ⋯ | radius_worst | texture_worst | perimeter_worst | area_worst | smoothness_worst | compactness_worst | concavity_worst | points_worst | symmetry_worst | dimension_worst | \n",
       "|---|---|---|---|---|---|\n",
       "| 564 |    894855 | B         | 12.86     | 13.32     |  82.82    |  504.8    | 0.11340   | 0.08834   | 0.03800   | 0.03400   | ⋯         | 14.04     | 21.08     |  92.80    |  599.5    | 0.1547    | 0.2231    | 0.17910   | 0.11550   | 0.2382    | 0.08553   | \n",
       "| 565 | 911320502 | B         | 13.17     | 18.22     |  84.28    |  537.3    | 0.07466   | 0.05994   | 0.04859   | 0.02870   | ⋯         | 14.90     | 23.89     |  95.10    |  687.6    | 0.1282    | 0.1965    | 0.18760   | 0.10450   | 0.2235    | 0.06925   | \n",
       "| 566 |    898677 | B         | 10.26     | 14.71     |  66.20    |  321.6    | 0.09882   | 0.09159   | 0.03581   | 0.02037   | ⋯         | 10.88     | 19.48     |  70.89    |  357.1    | 0.1360    | 0.1636    | 0.07162   | 0.04074   | 0.2434    | 0.08488   | \n",
       "| 567 |    873885 | M         | 15.28     | 22.41     |  98.92    |  710.6    | 0.09057   | 0.10520   | 0.05375   | 0.03263   | ⋯         | 17.80     | 28.03     | 113.80    |  973.1    | 0.1301    | 0.3299    | 0.36300   | 0.12260   | 0.3175    | 0.09772   | \n",
       "| 568 |    911201 | B         | 14.53     | 13.98     |  93.86    |  644.2    | 0.10990   | 0.09242   | 0.06895   | 0.06495   | ⋯         | 15.80     | 16.93     | 103.10    |  749.9    | 0.1347    | 0.1478    | 0.13730   | 0.10690   | 0.2606    | 0.07810   | \n",
       "| 569 |   9012795 | M         | 21.37     | 15.10     | 141.30    | 1386.0    | 0.10010   | 0.15150   | 0.19320   | 0.12550   | ⋯         | 22.69     | 21.84     | 152.10    | 1535.0    | 0.1192    | 0.2840    | 0.40240   | 0.19660   | 0.2730    | 0.08666   | \n",
       "\n",
       "\n"
      ],
      "text/plain": [
       "    id        diagnosis radius_mean texture_mean perimeter_mean area_mean\n",
       "564    894855 B         12.86       13.32         82.82          504.8   \n",
       "565 911320502 B         13.17       18.22         84.28          537.3   \n",
       "566    898677 B         10.26       14.71         66.20          321.6   \n",
       "567    873885 M         15.28       22.41         98.92          710.6   \n",
       "568    911201 B         14.53       13.98         93.86          644.2   \n",
       "569   9012795 M         21.37       15.10        141.30         1386.0   \n",
       "    smoothness_mean compactness_mean concavity_mean points_mean ⋯ radius_worst\n",
       "564 0.11340         0.08834          0.03800        0.03400     ⋯ 14.04       \n",
       "565 0.07466         0.05994          0.04859        0.02870     ⋯ 14.90       \n",
       "566 0.09882         0.09159          0.03581        0.02037     ⋯ 10.88       \n",
       "567 0.09057         0.10520          0.05375        0.03263     ⋯ 17.80       \n",
       "568 0.10990         0.09242          0.06895        0.06495     ⋯ 15.80       \n",
       "569 0.10010         0.15150          0.19320        0.12550     ⋯ 22.69       \n",
       "    texture_worst perimeter_worst area_worst smoothness_worst compactness_worst\n",
       "564 21.08          92.80           599.5     0.1547           0.2231           \n",
       "565 23.89          95.10           687.6     0.1282           0.1965           \n",
       "566 19.48          70.89           357.1     0.1360           0.1636           \n",
       "567 28.03         113.80           973.1     0.1301           0.3299           \n",
       "568 16.93         103.10           749.9     0.1347           0.1478           \n",
       "569 21.84         152.10          1535.0     0.1192           0.2840           \n",
       "    concavity_worst points_worst symmetry_worst dimension_worst\n",
       "564 0.17910         0.11550      0.2382         0.08553        \n",
       "565 0.18760         0.10450      0.2235         0.06925        \n",
       "566 0.07162         0.04074      0.2434         0.08488        \n",
       "567 0.36300         0.12260      0.3175         0.09772        \n",
       "568 0.13730         0.10690      0.2606         0.07810        \n",
       "569 0.40240         0.19660      0.2730         0.08666        "
      ]
     },
     "metadata": {},
     "output_type": "display_data"
    }
   ],
   "source": [
    "tail(wbcd)"
   ]
  },
  {
   "cell_type": "code",
   "execution_count": 6,
   "metadata": {
    "collapsed": true
   },
   "outputs": [],
   "source": [
    "# drop the id feature\n",
    "wbcd<- wbcd[-1]"
   ]
  },
  {
   "cell_type": "code",
   "execution_count": 7,
   "metadata": {
    "collapsed": false
   },
   "outputs": [
    {
     "data": {
      "text/html": [
       "<table>\n",
       "<thead><tr><th scope=col>diagnosis</th><th scope=col>radius_mean</th><th scope=col>texture_mean</th><th scope=col>perimeter_mean</th><th scope=col>area_mean</th><th scope=col>smoothness_mean</th><th scope=col>compactness_mean</th><th scope=col>concavity_mean</th><th scope=col>points_mean</th><th scope=col>symmetry_mean</th><th scope=col>⋯</th><th scope=col>radius_worst</th><th scope=col>texture_worst</th><th scope=col>perimeter_worst</th><th scope=col>area_worst</th><th scope=col>smoothness_worst</th><th scope=col>compactness_worst</th><th scope=col>concavity_worst</th><th scope=col>points_worst</th><th scope=col>symmetry_worst</th><th scope=col>dimension_worst</th></tr></thead>\n",
       "<tbody>\n",
       "\t<tr><td>B      </td><td>12.32  </td><td>12.39  </td><td>78.85  </td><td>464.1  </td><td>0.10280</td><td>0.06981</td><td>0.03987</td><td>0.03700</td><td>0.1959 </td><td>⋯      </td><td>13.50  </td><td>15.64  </td><td> 86.97 </td><td>549.1  </td><td>0.1385 </td><td>0.1266 </td><td>0.12420</td><td>0.09391</td><td>0.2827 </td><td>0.06771</td></tr>\n",
       "\t<tr><td>B      </td><td>10.60  </td><td>18.95  </td><td>69.28  </td><td>346.4  </td><td>0.09688</td><td>0.11470</td><td>0.06387</td><td>0.02642</td><td>0.1922 </td><td>⋯      </td><td>11.88  </td><td>22.94  </td><td> 78.28 </td><td>424.8  </td><td>0.1213 </td><td>0.2515 </td><td>0.19160</td><td>0.07926</td><td>0.2940 </td><td>0.07587</td></tr>\n",
       "\t<tr><td>B      </td><td>11.04  </td><td>16.83  </td><td>70.92  </td><td>373.2  </td><td>0.10770</td><td>0.07804</td><td>0.03046</td><td>0.02480</td><td>0.1714 </td><td>⋯      </td><td>12.41  </td><td>26.44  </td><td> 79.93 </td><td>471.4  </td><td>0.1369 </td><td>0.1482 </td><td>0.10670</td><td>0.07431</td><td>0.2998 </td><td>0.07881</td></tr>\n",
       "\t<tr><td>B      </td><td>11.28  </td><td>13.39  </td><td>73.00  </td><td>384.8  </td><td>0.11640</td><td>0.11360</td><td>0.04635</td><td>0.04796</td><td>0.1771 </td><td>⋯      </td><td>11.92  </td><td>15.77  </td><td> 76.53 </td><td>434.0  </td><td>0.1367 </td><td>0.1822 </td><td>0.08669</td><td>0.08611</td><td>0.2102 </td><td>0.06784</td></tr>\n",
       "\t<tr><td>B      </td><td>15.19  </td><td>13.21  </td><td>97.65  </td><td>711.8  </td><td>0.07963</td><td>0.06934</td><td>0.03393</td><td>0.02657</td><td>0.1721 </td><td>⋯      </td><td>16.20  </td><td>15.73  </td><td>104.50 </td><td>819.1  </td><td>0.1126 </td><td>0.1737 </td><td>0.13620</td><td>0.08178</td><td>0.2487 </td><td>0.06766</td></tr>\n",
       "\t<tr><td>B      </td><td>11.57  </td><td>19.04  </td><td>74.20  </td><td>409.7  </td><td>0.08546</td><td>0.07722</td><td>0.05485</td><td>0.01428</td><td>0.2031 </td><td>⋯      </td><td>13.07  </td><td>26.98  </td><td> 86.43 </td><td>520.5  </td><td>0.1249 </td><td>0.1937 </td><td>0.25600</td><td>0.06664</td><td>0.3035 </td><td>0.08284</td></tr>\n",
       "</tbody>\n",
       "</table>\n"
      ],
      "text/latex": [
       "\\begin{tabular}{r|lllllllllllllllllllllllllllllll}\n",
       " diagnosis & radius\\_mean & texture\\_mean & perimeter\\_mean & area\\_mean & smoothness\\_mean & compactness\\_mean & concavity\\_mean & points\\_mean & symmetry\\_mean & ⋯ & radius\\_worst & texture\\_worst & perimeter\\_worst & area\\_worst & smoothness\\_worst & compactness\\_worst & concavity\\_worst & points\\_worst & symmetry\\_worst & dimension\\_worst\\\\\n",
       "\\hline\n",
       "\t B       & 12.32   & 12.39   & 78.85   & 464.1   & 0.10280 & 0.06981 & 0.03987 & 0.03700 & 0.1959  & ⋯       & 13.50   & 15.64   &  86.97  & 549.1   & 0.1385  & 0.1266  & 0.12420 & 0.09391 & 0.2827  & 0.06771\\\\\n",
       "\t B       & 10.60   & 18.95   & 69.28   & 346.4   & 0.09688 & 0.11470 & 0.06387 & 0.02642 & 0.1922  & ⋯       & 11.88   & 22.94   &  78.28  & 424.8   & 0.1213  & 0.2515  & 0.19160 & 0.07926 & 0.2940  & 0.07587\\\\\n",
       "\t B       & 11.04   & 16.83   & 70.92   & 373.2   & 0.10770 & 0.07804 & 0.03046 & 0.02480 & 0.1714  & ⋯       & 12.41   & 26.44   &  79.93  & 471.4   & 0.1369  & 0.1482  & 0.10670 & 0.07431 & 0.2998  & 0.07881\\\\\n",
       "\t B       & 11.28   & 13.39   & 73.00   & 384.8   & 0.11640 & 0.11360 & 0.04635 & 0.04796 & 0.1771  & ⋯       & 11.92   & 15.77   &  76.53  & 434.0   & 0.1367  & 0.1822  & 0.08669 & 0.08611 & 0.2102  & 0.06784\\\\\n",
       "\t B       & 15.19   & 13.21   & 97.65   & 711.8   & 0.07963 & 0.06934 & 0.03393 & 0.02657 & 0.1721  & ⋯       & 16.20   & 15.73   & 104.50  & 819.1   & 0.1126  & 0.1737  & 0.13620 & 0.08178 & 0.2487  & 0.06766\\\\\n",
       "\t B       & 11.57   & 19.04   & 74.20   & 409.7   & 0.08546 & 0.07722 & 0.05485 & 0.01428 & 0.2031  & ⋯       & 13.07   & 26.98   &  86.43  & 520.5   & 0.1249  & 0.1937  & 0.25600 & 0.06664 & 0.3035  & 0.08284\\\\\n",
       "\\end{tabular}\n"
      ],
      "text/markdown": [
       "\n",
       "diagnosis | radius_mean | texture_mean | perimeter_mean | area_mean | smoothness_mean | compactness_mean | concavity_mean | points_mean | symmetry_mean | ⋯ | radius_worst | texture_worst | perimeter_worst | area_worst | smoothness_worst | compactness_worst | concavity_worst | points_worst | symmetry_worst | dimension_worst | \n",
       "|---|---|---|---|---|---|\n",
       "| B       | 12.32   | 12.39   | 78.85   | 464.1   | 0.10280 | 0.06981 | 0.03987 | 0.03700 | 0.1959  | ⋯       | 13.50   | 15.64   |  86.97  | 549.1   | 0.1385  | 0.1266  | 0.12420 | 0.09391 | 0.2827  | 0.06771 | \n",
       "| B       | 10.60   | 18.95   | 69.28   | 346.4   | 0.09688 | 0.11470 | 0.06387 | 0.02642 | 0.1922  | ⋯       | 11.88   | 22.94   |  78.28  | 424.8   | 0.1213  | 0.2515  | 0.19160 | 0.07926 | 0.2940  | 0.07587 | \n",
       "| B       | 11.04   | 16.83   | 70.92   | 373.2   | 0.10770 | 0.07804 | 0.03046 | 0.02480 | 0.1714  | ⋯       | 12.41   | 26.44   |  79.93  | 471.4   | 0.1369  | 0.1482  | 0.10670 | 0.07431 | 0.2998  | 0.07881 | \n",
       "| B       | 11.28   | 13.39   | 73.00   | 384.8   | 0.11640 | 0.11360 | 0.04635 | 0.04796 | 0.1771  | ⋯       | 11.92   | 15.77   |  76.53  | 434.0   | 0.1367  | 0.1822  | 0.08669 | 0.08611 | 0.2102  | 0.06784 | \n",
       "| B       | 15.19   | 13.21   | 97.65   | 711.8   | 0.07963 | 0.06934 | 0.03393 | 0.02657 | 0.1721  | ⋯       | 16.20   | 15.73   | 104.50  | 819.1   | 0.1126  | 0.1737  | 0.13620 | 0.08178 | 0.2487  | 0.06766 | \n",
       "| B       | 11.57   | 19.04   | 74.20   | 409.7   | 0.08546 | 0.07722 | 0.05485 | 0.01428 | 0.2031  | ⋯       | 13.07   | 26.98   |  86.43  | 520.5   | 0.1249  | 0.1937  | 0.25600 | 0.06664 | 0.3035  | 0.08284 | \n",
       "\n",
       "\n"
      ],
      "text/plain": [
       "  diagnosis radius_mean texture_mean perimeter_mean area_mean smoothness_mean\n",
       "1 B         12.32       12.39        78.85          464.1     0.10280        \n",
       "2 B         10.60       18.95        69.28          346.4     0.09688        \n",
       "3 B         11.04       16.83        70.92          373.2     0.10770        \n",
       "4 B         11.28       13.39        73.00          384.8     0.11640        \n",
       "5 B         15.19       13.21        97.65          711.8     0.07963        \n",
       "6 B         11.57       19.04        74.20          409.7     0.08546        \n",
       "  compactness_mean concavity_mean points_mean symmetry_mean ⋯ radius_worst\n",
       "1 0.06981          0.03987        0.03700     0.1959        ⋯ 13.50       \n",
       "2 0.11470          0.06387        0.02642     0.1922        ⋯ 11.88       \n",
       "3 0.07804          0.03046        0.02480     0.1714        ⋯ 12.41       \n",
       "4 0.11360          0.04635        0.04796     0.1771        ⋯ 11.92       \n",
       "5 0.06934          0.03393        0.02657     0.1721        ⋯ 16.20       \n",
       "6 0.07722          0.05485        0.01428     0.2031        ⋯ 13.07       \n",
       "  texture_worst perimeter_worst area_worst smoothness_worst compactness_worst\n",
       "1 15.64          86.97          549.1      0.1385           0.1266           \n",
       "2 22.94          78.28          424.8      0.1213           0.2515           \n",
       "3 26.44          79.93          471.4      0.1369           0.1482           \n",
       "4 15.77          76.53          434.0      0.1367           0.1822           \n",
       "5 15.73         104.50          819.1      0.1126           0.1737           \n",
       "6 26.98          86.43          520.5      0.1249           0.1937           \n",
       "  concavity_worst points_worst symmetry_worst dimension_worst\n",
       "1 0.12420         0.09391      0.2827         0.06771        \n",
       "2 0.19160         0.07926      0.2940         0.07587        \n",
       "3 0.10670         0.07431      0.2998         0.07881        \n",
       "4 0.08669         0.08611      0.2102         0.06784        \n",
       "5 0.13620         0.08178      0.2487         0.06766        \n",
       "6 0.25600         0.06664      0.3035         0.08284        "
      ]
     },
     "metadata": {},
     "output_type": "display_data"
    }
   ],
   "source": [
    "head(wbcd)"
   ]
  },
  {
   "cell_type": "code",
   "execution_count": 8,
   "metadata": {
    "collapsed": false
   },
   "outputs": [
    {
     "data": {
      "text/plain": [
       "\n",
       "  B   M \n",
       "357 212 "
      ]
     },
     "metadata": {},
     "output_type": "display_data"
    }
   ],
   "source": [
    "# table of diagnosis\n",
    "table(wbcd$diagnosis)"
   ]
  },
  {
   "cell_type": "code",
   "execution_count": 9,
   "metadata": {
    "collapsed": false
   },
   "outputs": [],
   "source": [
    "# recode diagnosis as a factor\n",
    "wbcd$diagnosis<- factor(wbcd$diagnosis,levels=c(\"B\",\"M\"),labels=c(\"Benign\",\"Malignant\"))"
   ]
  },
  {
   "cell_type": "code",
   "execution_count": 10,
   "metadata": {
    "collapsed": false
   },
   "outputs": [
    {
     "data": {
      "text/html": [
       "<table>\n",
       "<thead><tr><th scope=col>diagnosis</th><th scope=col>radius_mean</th><th scope=col>texture_mean</th><th scope=col>perimeter_mean</th><th scope=col>area_mean</th><th scope=col>smoothness_mean</th><th scope=col>compactness_mean</th><th scope=col>concavity_mean</th><th scope=col>points_mean</th><th scope=col>symmetry_mean</th><th scope=col>⋯</th><th scope=col>radius_worst</th><th scope=col>texture_worst</th><th scope=col>perimeter_worst</th><th scope=col>area_worst</th><th scope=col>smoothness_worst</th><th scope=col>compactness_worst</th><th scope=col>concavity_worst</th><th scope=col>points_worst</th><th scope=col>symmetry_worst</th><th scope=col>dimension_worst</th></tr></thead>\n",
       "<tbody>\n",
       "\t<tr><td>Benign </td><td>12.32  </td><td>12.39  </td><td>78.85  </td><td>464.1  </td><td>0.10280</td><td>0.06981</td><td>0.03987</td><td>0.03700</td><td>0.1959 </td><td>⋯      </td><td>13.50  </td><td>15.64  </td><td> 86.97 </td><td>549.1  </td><td>0.1385 </td><td>0.1266 </td><td>0.12420</td><td>0.09391</td><td>0.2827 </td><td>0.06771</td></tr>\n",
       "\t<tr><td>Benign </td><td>10.60  </td><td>18.95  </td><td>69.28  </td><td>346.4  </td><td>0.09688</td><td>0.11470</td><td>0.06387</td><td>0.02642</td><td>0.1922 </td><td>⋯      </td><td>11.88  </td><td>22.94  </td><td> 78.28 </td><td>424.8  </td><td>0.1213 </td><td>0.2515 </td><td>0.19160</td><td>0.07926</td><td>0.2940 </td><td>0.07587</td></tr>\n",
       "\t<tr><td>Benign </td><td>11.04  </td><td>16.83  </td><td>70.92  </td><td>373.2  </td><td>0.10770</td><td>0.07804</td><td>0.03046</td><td>0.02480</td><td>0.1714 </td><td>⋯      </td><td>12.41  </td><td>26.44  </td><td> 79.93 </td><td>471.4  </td><td>0.1369 </td><td>0.1482 </td><td>0.10670</td><td>0.07431</td><td>0.2998 </td><td>0.07881</td></tr>\n",
       "\t<tr><td>Benign </td><td>11.28  </td><td>13.39  </td><td>73.00  </td><td>384.8  </td><td>0.11640</td><td>0.11360</td><td>0.04635</td><td>0.04796</td><td>0.1771 </td><td>⋯      </td><td>11.92  </td><td>15.77  </td><td> 76.53 </td><td>434.0  </td><td>0.1367 </td><td>0.1822 </td><td>0.08669</td><td>0.08611</td><td>0.2102 </td><td>0.06784</td></tr>\n",
       "\t<tr><td>Benign </td><td>15.19  </td><td>13.21  </td><td>97.65  </td><td>711.8  </td><td>0.07963</td><td>0.06934</td><td>0.03393</td><td>0.02657</td><td>0.1721 </td><td>⋯      </td><td>16.20  </td><td>15.73  </td><td>104.50 </td><td>819.1  </td><td>0.1126 </td><td>0.1737 </td><td>0.13620</td><td>0.08178</td><td>0.2487 </td><td>0.06766</td></tr>\n",
       "\t<tr><td>Benign </td><td>11.57  </td><td>19.04  </td><td>74.20  </td><td>409.7  </td><td>0.08546</td><td>0.07722</td><td>0.05485</td><td>0.01428</td><td>0.2031 </td><td>⋯      </td><td>13.07  </td><td>26.98  </td><td> 86.43 </td><td>520.5  </td><td>0.1249 </td><td>0.1937 </td><td>0.25600</td><td>0.06664</td><td>0.3035 </td><td>0.08284</td></tr>\n",
       "</tbody>\n",
       "</table>\n"
      ],
      "text/latex": [
       "\\begin{tabular}{r|lllllllllllllllllllllllllllllll}\n",
       " diagnosis & radius\\_mean & texture\\_mean & perimeter\\_mean & area\\_mean & smoothness\\_mean & compactness\\_mean & concavity\\_mean & points\\_mean & symmetry\\_mean & ⋯ & radius\\_worst & texture\\_worst & perimeter\\_worst & area\\_worst & smoothness\\_worst & compactness\\_worst & concavity\\_worst & points\\_worst & symmetry\\_worst & dimension\\_worst\\\\\n",
       "\\hline\n",
       "\t Benign  & 12.32   & 12.39   & 78.85   & 464.1   & 0.10280 & 0.06981 & 0.03987 & 0.03700 & 0.1959  & ⋯       & 13.50   & 15.64   &  86.97  & 549.1   & 0.1385  & 0.1266  & 0.12420 & 0.09391 & 0.2827  & 0.06771\\\\\n",
       "\t Benign  & 10.60   & 18.95   & 69.28   & 346.4   & 0.09688 & 0.11470 & 0.06387 & 0.02642 & 0.1922  & ⋯       & 11.88   & 22.94   &  78.28  & 424.8   & 0.1213  & 0.2515  & 0.19160 & 0.07926 & 0.2940  & 0.07587\\\\\n",
       "\t Benign  & 11.04   & 16.83   & 70.92   & 373.2   & 0.10770 & 0.07804 & 0.03046 & 0.02480 & 0.1714  & ⋯       & 12.41   & 26.44   &  79.93  & 471.4   & 0.1369  & 0.1482  & 0.10670 & 0.07431 & 0.2998  & 0.07881\\\\\n",
       "\t Benign  & 11.28   & 13.39   & 73.00   & 384.8   & 0.11640 & 0.11360 & 0.04635 & 0.04796 & 0.1771  & ⋯       & 11.92   & 15.77   &  76.53  & 434.0   & 0.1367  & 0.1822  & 0.08669 & 0.08611 & 0.2102  & 0.06784\\\\\n",
       "\t Benign  & 15.19   & 13.21   & 97.65   & 711.8   & 0.07963 & 0.06934 & 0.03393 & 0.02657 & 0.1721  & ⋯       & 16.20   & 15.73   & 104.50  & 819.1   & 0.1126  & 0.1737  & 0.13620 & 0.08178 & 0.2487  & 0.06766\\\\\n",
       "\t Benign  & 11.57   & 19.04   & 74.20   & 409.7   & 0.08546 & 0.07722 & 0.05485 & 0.01428 & 0.2031  & ⋯       & 13.07   & 26.98   &  86.43  & 520.5   & 0.1249  & 0.1937  & 0.25600 & 0.06664 & 0.3035  & 0.08284\\\\\n",
       "\\end{tabular}\n"
      ],
      "text/markdown": [
       "\n",
       "diagnosis | radius_mean | texture_mean | perimeter_mean | area_mean | smoothness_mean | compactness_mean | concavity_mean | points_mean | symmetry_mean | ⋯ | radius_worst | texture_worst | perimeter_worst | area_worst | smoothness_worst | compactness_worst | concavity_worst | points_worst | symmetry_worst | dimension_worst | \n",
       "|---|---|---|---|---|---|\n",
       "| Benign  | 12.32   | 12.39   | 78.85   | 464.1   | 0.10280 | 0.06981 | 0.03987 | 0.03700 | 0.1959  | ⋯       | 13.50   | 15.64   |  86.97  | 549.1   | 0.1385  | 0.1266  | 0.12420 | 0.09391 | 0.2827  | 0.06771 | \n",
       "| Benign  | 10.60   | 18.95   | 69.28   | 346.4   | 0.09688 | 0.11470 | 0.06387 | 0.02642 | 0.1922  | ⋯       | 11.88   | 22.94   |  78.28  | 424.8   | 0.1213  | 0.2515  | 0.19160 | 0.07926 | 0.2940  | 0.07587 | \n",
       "| Benign  | 11.04   | 16.83   | 70.92   | 373.2   | 0.10770 | 0.07804 | 0.03046 | 0.02480 | 0.1714  | ⋯       | 12.41   | 26.44   |  79.93  | 471.4   | 0.1369  | 0.1482  | 0.10670 | 0.07431 | 0.2998  | 0.07881 | \n",
       "| Benign  | 11.28   | 13.39   | 73.00   | 384.8   | 0.11640 | 0.11360 | 0.04635 | 0.04796 | 0.1771  | ⋯       | 11.92   | 15.77   |  76.53  | 434.0   | 0.1367  | 0.1822  | 0.08669 | 0.08611 | 0.2102  | 0.06784 | \n",
       "| Benign  | 15.19   | 13.21   | 97.65   | 711.8   | 0.07963 | 0.06934 | 0.03393 | 0.02657 | 0.1721  | ⋯       | 16.20   | 15.73   | 104.50  | 819.1   | 0.1126  | 0.1737  | 0.13620 | 0.08178 | 0.2487  | 0.06766 | \n",
       "| Benign  | 11.57   | 19.04   | 74.20   | 409.7   | 0.08546 | 0.07722 | 0.05485 | 0.01428 | 0.2031  | ⋯       | 13.07   | 26.98   |  86.43  | 520.5   | 0.1249  | 0.1937  | 0.25600 | 0.06664 | 0.3035  | 0.08284 | \n",
       "\n",
       "\n"
      ],
      "text/plain": [
       "  diagnosis radius_mean texture_mean perimeter_mean area_mean smoothness_mean\n",
       "1 Benign    12.32       12.39        78.85          464.1     0.10280        \n",
       "2 Benign    10.60       18.95        69.28          346.4     0.09688        \n",
       "3 Benign    11.04       16.83        70.92          373.2     0.10770        \n",
       "4 Benign    11.28       13.39        73.00          384.8     0.11640        \n",
       "5 Benign    15.19       13.21        97.65          711.8     0.07963        \n",
       "6 Benign    11.57       19.04        74.20          409.7     0.08546        \n",
       "  compactness_mean concavity_mean points_mean symmetry_mean ⋯ radius_worst\n",
       "1 0.06981          0.03987        0.03700     0.1959        ⋯ 13.50       \n",
       "2 0.11470          0.06387        0.02642     0.1922        ⋯ 11.88       \n",
       "3 0.07804          0.03046        0.02480     0.1714        ⋯ 12.41       \n",
       "4 0.11360          0.04635        0.04796     0.1771        ⋯ 11.92       \n",
       "5 0.06934          0.03393        0.02657     0.1721        ⋯ 16.20       \n",
       "6 0.07722          0.05485        0.01428     0.2031        ⋯ 13.07       \n",
       "  texture_worst perimeter_worst area_worst smoothness_worst compactness_worst\n",
       "1 15.64          86.97          549.1      0.1385           0.1266           \n",
       "2 22.94          78.28          424.8      0.1213           0.2515           \n",
       "3 26.44          79.93          471.4      0.1369           0.1482           \n",
       "4 15.77          76.53          434.0      0.1367           0.1822           \n",
       "5 15.73         104.50          819.1      0.1126           0.1737           \n",
       "6 26.98          86.43          520.5      0.1249           0.1937           \n",
       "  concavity_worst points_worst symmetry_worst dimension_worst\n",
       "1 0.12420         0.09391      0.2827         0.06771        \n",
       "2 0.19160         0.07926      0.2940         0.07587        \n",
       "3 0.10670         0.07431      0.2998         0.07881        \n",
       "4 0.08669         0.08611      0.2102         0.06784        \n",
       "5 0.13620         0.08178      0.2487         0.06766        \n",
       "6 0.25600         0.06664      0.3035         0.08284        "
      ]
     },
     "metadata": {},
     "output_type": "display_data"
    }
   ],
   "source": [
    "head(wbcd)"
   ]
  },
  {
   "cell_type": "code",
   "execution_count": 11,
   "metadata": {
    "collapsed": false
   },
   "outputs": [
    {
     "data": {
      "text/plain": [
       "\n",
       "   Benign Malignant \n",
       "     62.7      37.3 "
      ]
     },
     "metadata": {},
     "output_type": "display_data"
    }
   ],
   "source": [
    "# table or proportions with more informative labels\n",
    "round(prop.table(table(wbcd$diagnosis))*100,digits = 1)"
   ]
  },
  {
   "cell_type": "code",
   "execution_count": 12,
   "metadata": {
    "collapsed": false
   },
   "outputs": [
    {
     "data": {
      "text/plain": [
       "  radius_mean       area_mean      smoothness_mean  \n",
       " Min.   : 6.981   Min.   : 143.5   Min.   :0.05263  \n",
       " 1st Qu.:11.700   1st Qu.: 420.3   1st Qu.:0.08637  \n",
       " Median :13.370   Median : 551.1   Median :0.09587  \n",
       " Mean   :14.127   Mean   : 654.9   Mean   :0.09636  \n",
       " 3rd Qu.:15.780   3rd Qu.: 782.7   3rd Qu.:0.10530  \n",
       " Max.   :28.110   Max.   :2501.0   Max.   :0.16340  "
      ]
     },
     "metadata": {},
     "output_type": "display_data"
    }
   ],
   "source": [
    "# summarize three numeric features\n",
    "summary(wbcd[c(\"radius_mean\",\"area_mean\",\"smoothness_mean\")])"
   ]
  },
  {
   "cell_type": "code",
   "execution_count": 13,
   "metadata": {
    "collapsed": false
   },
   "outputs": [],
   "source": [
    "# create normalization function\n",
    "normalize<- function(x){\n",
    "    return ((x-min(x))/(max(x)-min(x)))\n",
    "}"
   ]
  },
  {
   "cell_type": "code",
   "execution_count": 14,
   "metadata": {
    "collapsed": false
   },
   "outputs": [
    {
     "data": {
      "text/html": [
       "<ol class=list-inline>\n",
       "\t<li>0</li>\n",
       "\t<li>0.25</li>\n",
       "\t<li>0.5</li>\n",
       "\t<li>0.75</li>\n",
       "\t<li>1</li>\n",
       "</ol>\n"
      ],
      "text/latex": [
       "\\begin{enumerate*}\n",
       "\\item 0\n",
       "\\item 0.25\n",
       "\\item 0.5\n",
       "\\item 0.75\n",
       "\\item 1\n",
       "\\end{enumerate*}\n"
      ],
      "text/markdown": [
       "1. 0\n",
       "2. 0.25\n",
       "3. 0.5\n",
       "4. 0.75\n",
       "5. 1\n",
       "\n",
       "\n"
      ],
      "text/plain": [
       "[1] 0.00 0.25 0.50 0.75 1.00"
      ]
     },
     "metadata": {},
     "output_type": "display_data"
    },
    {
     "data": {
      "text/html": [
       "<ol class=list-inline>\n",
       "\t<li>0</li>\n",
       "\t<li>0.25</li>\n",
       "\t<li>0.5</li>\n",
       "\t<li>0.75</li>\n",
       "\t<li>1</li>\n",
       "</ol>\n"
      ],
      "text/latex": [
       "\\begin{enumerate*}\n",
       "\\item 0\n",
       "\\item 0.25\n",
       "\\item 0.5\n",
       "\\item 0.75\n",
       "\\item 1\n",
       "\\end{enumerate*}\n"
      ],
      "text/markdown": [
       "1. 0\n",
       "2. 0.25\n",
       "3. 0.5\n",
       "4. 0.75\n",
       "5. 1\n",
       "\n",
       "\n"
      ],
      "text/plain": [
       "[1] 0.00 0.25 0.50 0.75 1.00"
      ]
     },
     "metadata": {},
     "output_type": "display_data"
    }
   ],
   "source": [
    "# test normalization function - result should be identical\n",
    "normalize(c(1,2,3,4,5))\n",
    "normalize(c(10,20,30,40,50))"
   ]
  },
  {
   "cell_type": "code",
   "execution_count": 15,
   "metadata": {
    "collapsed": true
   },
   "outputs": [],
   "source": [
    "# normalize the wbcd data\n",
    "wbcd_n<- as.data.frame(lapply(wbcd[2:31],normalize))"
   ]
  },
  {
   "cell_type": "code",
   "execution_count": 16,
   "metadata": {
    "collapsed": false
   },
   "outputs": [
    {
     "data": {
      "text/html": [
       "<table>\n",
       "<thead><tr><th scope=col>diagnosis</th><th scope=col>radius_mean</th><th scope=col>texture_mean</th><th scope=col>perimeter_mean</th><th scope=col>area_mean</th><th scope=col>smoothness_mean</th><th scope=col>compactness_mean</th><th scope=col>concavity_mean</th><th scope=col>points_mean</th><th scope=col>symmetry_mean</th><th scope=col>⋯</th><th scope=col>radius_worst</th><th scope=col>texture_worst</th><th scope=col>perimeter_worst</th><th scope=col>area_worst</th><th scope=col>smoothness_worst</th><th scope=col>compactness_worst</th><th scope=col>concavity_worst</th><th scope=col>points_worst</th><th scope=col>symmetry_worst</th><th scope=col>dimension_worst</th></tr></thead>\n",
       "<tbody>\n",
       "\t<tr><td>Benign </td><td>12.32  </td><td>12.39  </td><td>78.85  </td><td>464.1  </td><td>0.10280</td><td>0.06981</td><td>0.03987</td><td>0.03700</td><td>0.1959 </td><td>⋯      </td><td>13.50  </td><td>15.64  </td><td> 86.97 </td><td>549.1  </td><td>0.1385 </td><td>0.1266 </td><td>0.12420</td><td>0.09391</td><td>0.2827 </td><td>0.06771</td></tr>\n",
       "\t<tr><td>Benign </td><td>10.60  </td><td>18.95  </td><td>69.28  </td><td>346.4  </td><td>0.09688</td><td>0.11470</td><td>0.06387</td><td>0.02642</td><td>0.1922 </td><td>⋯      </td><td>11.88  </td><td>22.94  </td><td> 78.28 </td><td>424.8  </td><td>0.1213 </td><td>0.2515 </td><td>0.19160</td><td>0.07926</td><td>0.2940 </td><td>0.07587</td></tr>\n",
       "\t<tr><td>Benign </td><td>11.04  </td><td>16.83  </td><td>70.92  </td><td>373.2  </td><td>0.10770</td><td>0.07804</td><td>0.03046</td><td>0.02480</td><td>0.1714 </td><td>⋯      </td><td>12.41  </td><td>26.44  </td><td> 79.93 </td><td>471.4  </td><td>0.1369 </td><td>0.1482 </td><td>0.10670</td><td>0.07431</td><td>0.2998 </td><td>0.07881</td></tr>\n",
       "\t<tr><td>Benign </td><td>11.28  </td><td>13.39  </td><td>73.00  </td><td>384.8  </td><td>0.11640</td><td>0.11360</td><td>0.04635</td><td>0.04796</td><td>0.1771 </td><td>⋯      </td><td>11.92  </td><td>15.77  </td><td> 76.53 </td><td>434.0  </td><td>0.1367 </td><td>0.1822 </td><td>0.08669</td><td>0.08611</td><td>0.2102 </td><td>0.06784</td></tr>\n",
       "\t<tr><td>Benign </td><td>15.19  </td><td>13.21  </td><td>97.65  </td><td>711.8  </td><td>0.07963</td><td>0.06934</td><td>0.03393</td><td>0.02657</td><td>0.1721 </td><td>⋯      </td><td>16.20  </td><td>15.73  </td><td>104.50 </td><td>819.1  </td><td>0.1126 </td><td>0.1737 </td><td>0.13620</td><td>0.08178</td><td>0.2487 </td><td>0.06766</td></tr>\n",
       "\t<tr><td>Benign </td><td>11.57  </td><td>19.04  </td><td>74.20  </td><td>409.7  </td><td>0.08546</td><td>0.07722</td><td>0.05485</td><td>0.01428</td><td>0.2031 </td><td>⋯      </td><td>13.07  </td><td>26.98  </td><td> 86.43 </td><td>520.5  </td><td>0.1249 </td><td>0.1937 </td><td>0.25600</td><td>0.06664</td><td>0.3035 </td><td>0.08284</td></tr>\n",
       "</tbody>\n",
       "</table>\n"
      ],
      "text/latex": [
       "\\begin{tabular}{r|lllllllllllllllllllllllllllllll}\n",
       " diagnosis & radius\\_mean & texture\\_mean & perimeter\\_mean & area\\_mean & smoothness\\_mean & compactness\\_mean & concavity\\_mean & points\\_mean & symmetry\\_mean & ⋯ & radius\\_worst & texture\\_worst & perimeter\\_worst & area\\_worst & smoothness\\_worst & compactness\\_worst & concavity\\_worst & points\\_worst & symmetry\\_worst & dimension\\_worst\\\\\n",
       "\\hline\n",
       "\t Benign  & 12.32   & 12.39   & 78.85   & 464.1   & 0.10280 & 0.06981 & 0.03987 & 0.03700 & 0.1959  & ⋯       & 13.50   & 15.64   &  86.97  & 549.1   & 0.1385  & 0.1266  & 0.12420 & 0.09391 & 0.2827  & 0.06771\\\\\n",
       "\t Benign  & 10.60   & 18.95   & 69.28   & 346.4   & 0.09688 & 0.11470 & 0.06387 & 0.02642 & 0.1922  & ⋯       & 11.88   & 22.94   &  78.28  & 424.8   & 0.1213  & 0.2515  & 0.19160 & 0.07926 & 0.2940  & 0.07587\\\\\n",
       "\t Benign  & 11.04   & 16.83   & 70.92   & 373.2   & 0.10770 & 0.07804 & 0.03046 & 0.02480 & 0.1714  & ⋯       & 12.41   & 26.44   &  79.93  & 471.4   & 0.1369  & 0.1482  & 0.10670 & 0.07431 & 0.2998  & 0.07881\\\\\n",
       "\t Benign  & 11.28   & 13.39   & 73.00   & 384.8   & 0.11640 & 0.11360 & 0.04635 & 0.04796 & 0.1771  & ⋯       & 11.92   & 15.77   &  76.53  & 434.0   & 0.1367  & 0.1822  & 0.08669 & 0.08611 & 0.2102  & 0.06784\\\\\n",
       "\t Benign  & 15.19   & 13.21   & 97.65   & 711.8   & 0.07963 & 0.06934 & 0.03393 & 0.02657 & 0.1721  & ⋯       & 16.20   & 15.73   & 104.50  & 819.1   & 0.1126  & 0.1737  & 0.13620 & 0.08178 & 0.2487  & 0.06766\\\\\n",
       "\t Benign  & 11.57   & 19.04   & 74.20   & 409.7   & 0.08546 & 0.07722 & 0.05485 & 0.01428 & 0.2031  & ⋯       & 13.07   & 26.98   &  86.43  & 520.5   & 0.1249  & 0.1937  & 0.25600 & 0.06664 & 0.3035  & 0.08284\\\\\n",
       "\\end{tabular}\n"
      ],
      "text/markdown": [
       "\n",
       "diagnosis | radius_mean | texture_mean | perimeter_mean | area_mean | smoothness_mean | compactness_mean | concavity_mean | points_mean | symmetry_mean | ⋯ | radius_worst | texture_worst | perimeter_worst | area_worst | smoothness_worst | compactness_worst | concavity_worst | points_worst | symmetry_worst | dimension_worst | \n",
       "|---|---|---|---|---|---|\n",
       "| Benign  | 12.32   | 12.39   | 78.85   | 464.1   | 0.10280 | 0.06981 | 0.03987 | 0.03700 | 0.1959  | ⋯       | 13.50   | 15.64   |  86.97  | 549.1   | 0.1385  | 0.1266  | 0.12420 | 0.09391 | 0.2827  | 0.06771 | \n",
       "| Benign  | 10.60   | 18.95   | 69.28   | 346.4   | 0.09688 | 0.11470 | 0.06387 | 0.02642 | 0.1922  | ⋯       | 11.88   | 22.94   |  78.28  | 424.8   | 0.1213  | 0.2515  | 0.19160 | 0.07926 | 0.2940  | 0.07587 | \n",
       "| Benign  | 11.04   | 16.83   | 70.92   | 373.2   | 0.10770 | 0.07804 | 0.03046 | 0.02480 | 0.1714  | ⋯       | 12.41   | 26.44   |  79.93  | 471.4   | 0.1369  | 0.1482  | 0.10670 | 0.07431 | 0.2998  | 0.07881 | \n",
       "| Benign  | 11.28   | 13.39   | 73.00   | 384.8   | 0.11640 | 0.11360 | 0.04635 | 0.04796 | 0.1771  | ⋯       | 11.92   | 15.77   |  76.53  | 434.0   | 0.1367  | 0.1822  | 0.08669 | 0.08611 | 0.2102  | 0.06784 | \n",
       "| Benign  | 15.19   | 13.21   | 97.65   | 711.8   | 0.07963 | 0.06934 | 0.03393 | 0.02657 | 0.1721  | ⋯       | 16.20   | 15.73   | 104.50  | 819.1   | 0.1126  | 0.1737  | 0.13620 | 0.08178 | 0.2487  | 0.06766 | \n",
       "| Benign  | 11.57   | 19.04   | 74.20   | 409.7   | 0.08546 | 0.07722 | 0.05485 | 0.01428 | 0.2031  | ⋯       | 13.07   | 26.98   |  86.43  | 520.5   | 0.1249  | 0.1937  | 0.25600 | 0.06664 | 0.3035  | 0.08284 | \n",
       "\n",
       "\n"
      ],
      "text/plain": [
       "  diagnosis radius_mean texture_mean perimeter_mean area_mean smoothness_mean\n",
       "1 Benign    12.32       12.39        78.85          464.1     0.10280        \n",
       "2 Benign    10.60       18.95        69.28          346.4     0.09688        \n",
       "3 Benign    11.04       16.83        70.92          373.2     0.10770        \n",
       "4 Benign    11.28       13.39        73.00          384.8     0.11640        \n",
       "5 Benign    15.19       13.21        97.65          711.8     0.07963        \n",
       "6 Benign    11.57       19.04        74.20          409.7     0.08546        \n",
       "  compactness_mean concavity_mean points_mean symmetry_mean ⋯ radius_worst\n",
       "1 0.06981          0.03987        0.03700     0.1959        ⋯ 13.50       \n",
       "2 0.11470          0.06387        0.02642     0.1922        ⋯ 11.88       \n",
       "3 0.07804          0.03046        0.02480     0.1714        ⋯ 12.41       \n",
       "4 0.11360          0.04635        0.04796     0.1771        ⋯ 11.92       \n",
       "5 0.06934          0.03393        0.02657     0.1721        ⋯ 16.20       \n",
       "6 0.07722          0.05485        0.01428     0.2031        ⋯ 13.07       \n",
       "  texture_worst perimeter_worst area_worst smoothness_worst compactness_worst\n",
       "1 15.64          86.97          549.1      0.1385           0.1266           \n",
       "2 22.94          78.28          424.8      0.1213           0.2515           \n",
       "3 26.44          79.93          471.4      0.1369           0.1482           \n",
       "4 15.77          76.53          434.0      0.1367           0.1822           \n",
       "5 15.73         104.50          819.1      0.1126           0.1737           \n",
       "6 26.98          86.43          520.5      0.1249           0.1937           \n",
       "  concavity_worst points_worst symmetry_worst dimension_worst\n",
       "1 0.12420         0.09391      0.2827         0.06771        \n",
       "2 0.19160         0.07926      0.2940         0.07587        \n",
       "3 0.10670         0.07431      0.2998         0.07881        \n",
       "4 0.08669         0.08611      0.2102         0.06784        \n",
       "5 0.13620         0.08178      0.2487         0.06766        \n",
       "6 0.25600         0.06664      0.3035         0.08284        "
      ]
     },
     "metadata": {},
     "output_type": "display_data"
    }
   ],
   "source": [
    "head(wbcd)"
   ]
  },
  {
   "cell_type": "code",
   "execution_count": 17,
   "metadata": {
    "collapsed": false
   },
   "outputs": [
    {
     "data": {
      "text/plain": [
       "   Min. 1st Qu.  Median    Mean 3rd Qu.    Max. \n",
       " 0.0000  0.1174  0.1729  0.2169  0.2711  1.0000 "
      ]
     },
     "metadata": {},
     "output_type": "display_data"
    },
    {
     "data": {
      "image/png": "[encoded data removed]",
      "text/plain": [
       "Plot with title “Histogram of wbcd_n$area_mean”"
      ]
     },
     "metadata": {},
     "output_type": "display_data"
    }
   ],
   "source": [
    "# confirm that normalization worked\n",
    "summary(wbcd_n$area_mean)\n",
    "hist(wbcd_n$area_mean)"
   ]
  },
  {
   "cell_type": "code",
   "execution_count": 18,
   "metadata": {
    "collapsed": false
   },
   "outputs": [],
   "source": [
    "# create training and test data\n",
    "wbcd_train<- wbcd_n[1:469,]\n",
    "wbcd_test<- wbcd_n[470:569,]"
   ]
  },
  {
   "cell_type": "code",
   "execution_count": 21,
   "metadata": {
    "collapsed": false
   },
   "outputs": [
    {
     "data": {
      "text/html": [
       "<table>\n",
       "<thead><tr><th></th><th scope=col>radius_mean</th><th scope=col>texture_mean</th><th scope=col>perimeter_mean</th><th scope=col>area_mean</th><th scope=col>smoothness_mean</th><th scope=col>compactness_mean</th><th scope=col>concavity_mean</th><th scope=col>points_mean</th><th scope=col>symmetry_mean</th><th scope=col>dimension_mean</th><th scope=col>⋯</th><th scope=col>radius_worst</th><th scope=col>texture_worst</th><th scope=col>perimeter_worst</th><th scope=col>area_worst</th><th scope=col>smoothness_worst</th><th scope=col>compactness_worst</th><th scope=col>concavity_worst</th><th scope=col>points_worst</th><th scope=col>symmetry_worst</th><th scope=col>dimension_worst</th></tr></thead>\n",
       "<tbody>\n",
       "\t<tr><th scope=row>NA</th><td>NA</td><td>NA</td><td>NA</td><td>NA</td><td>NA</td><td>NA</td><td>NA</td><td>NA</td><td>NA</td><td>NA</td><td>⋯ </td><td>NA</td><td>NA</td><td>NA</td><td>NA</td><td>NA</td><td>NA</td><td>NA</td><td>NA</td><td>NA</td><td>NA</td></tr>\n",
       "\t<tr><th scope=row>NA.1</th><td>NA</td><td>NA</td><td>NA</td><td>NA</td><td>NA</td><td>NA</td><td>NA</td><td>NA</td><td>NA</td><td>NA</td><td>⋯ </td><td>NA</td><td>NA</td><td>NA</td><td>NA</td><td>NA</td><td>NA</td><td>NA</td><td>NA</td><td>NA</td><td>NA</td></tr>\n",
       "</tbody>\n",
       "</table>\n"
      ],
      "text/latex": [
       "\\begin{tabular}{r|llllllllllllllllllllllllllllll}\n",
       "  & radius\\_mean & texture\\_mean & perimeter\\_mean & area\\_mean & smoothness\\_mean & compactness\\_mean & concavity\\_mean & points\\_mean & symmetry\\_mean & dimension\\_mean & ⋯ & radius\\_worst & texture\\_worst & perimeter\\_worst & area\\_worst & smoothness\\_worst & compactness\\_worst & concavity\\_worst & points\\_worst & symmetry\\_worst & dimension\\_worst\\\\\n",
       "\\hline\n",
       "\tNA & NA & NA & NA & NA & NA & NA & NA & NA & NA & NA & ⋯  & NA & NA & NA & NA & NA & NA & NA & NA & NA & NA\\\\\n",
       "\tNA.1 & NA & NA & NA & NA & NA & NA & NA & NA & NA & NA & ⋯  & NA & NA & NA & NA & NA & NA & NA & NA & NA & NA\\\\\n",
       "\\end{tabular}\n"
      ],
      "text/markdown": [
       "\n",
       "| <!--/--> | radius_mean | texture_mean | perimeter_mean | area_mean | smoothness_mean | compactness_mean | concavity_mean | points_mean | symmetry_mean | dimension_mean | ⋯ | radius_worst | texture_worst | perimeter_worst | area_worst | smoothness_worst | compactness_worst | concavity_worst | points_worst | symmetry_worst | dimension_worst | \n",
       "|---|---|\n",
       "| NA | NA | NA | NA | NA | NA | NA | NA | NA | NA | NA | ⋯  | NA | NA | NA | NA | NA | NA | NA | NA | NA | NA | \n",
       "| NA.1 | NA | NA | NA | NA | NA | NA | NA | NA | NA | NA | ⋯  | NA | NA | NA | NA | NA | NA | NA | NA | NA | NA | \n",
       "\n",
       "\n"
      ],
      "text/plain": [
       "     radius_mean texture_mean perimeter_mean area_mean smoothness_mean\n",
       "NA   NA          NA           NA             NA        NA             \n",
       "NA.1 NA          NA           NA             NA        NA             \n",
       "     compactness_mean concavity_mean points_mean symmetry_mean dimension_mean ⋯\n",
       "NA   NA               NA             NA          NA            NA             ⋯\n",
       "NA.1 NA               NA             NA          NA            NA             ⋯\n",
       "     radius_worst texture_worst perimeter_worst area_worst smoothness_worst\n",
       "NA   NA           NA            NA              NA         NA              \n",
       "NA.1 NA           NA            NA              NA         NA              \n",
       "     compactness_worst concavity_worst points_worst symmetry_worst\n",
       "NA   NA                NA              NA           NA            \n",
       "NA.1 NA                NA              NA           NA            \n",
       "     dimension_worst\n",
       "NA   NA             \n",
       "NA.1 NA             "
      ]
     },
     "metadata": {},
     "output_type": "display_data"
    }
   ],
   "source": [
    "wbcd_test[470:471,]"
   ]
  },
  {
   "cell_type": "code",
   "execution_count": 23,
   "metadata": {
    "collapsed": true
   },
   "outputs": [],
   "source": [
    "# create labels for training and test data\n",
    "wbcd_train_labels<- wbcd[1:469,1]\n",
    "wbcd_test_labels<- wbcd[470:569,1]"
   ]
  },
  {
   "cell_type": "code",
   "execution_count": 26,
   "metadata": {
    "collapsed": false
   },
   "outputs": [
    {
     "data": {
      "text/html": [
       "<ol class=list-inline>\n",
       "\t<li>Benign</li>\n",
       "\t<li>Benign</li>\n",
       "\t<li>Benign</li>\n",
       "\t<li>Benign</li>\n",
       "\t<li>Benign</li>\n",
       "</ol>\n",
       "\n",
       "<details>\n",
       "\t<summary style=display:list-item;cursor:pointer>\n",
       "\t\t<strong>Levels</strong>:\n",
       "\t</summary>\n",
       "\t<ol class=list-inline>\n",
       "\t\t<li>'Benign'</li>\n",
       "\t\t<li>'Malignant'</li>\n",
       "\t</ol>\n",
       "</details>"
      ],
      "text/latex": [
       "\\begin{enumerate*}\n",
       "\\item Benign\n",
       "\\item Benign\n",
       "\\item Benign\n",
       "\\item Benign\n",
       "\\item Benign\n",
       "\\end{enumerate*}\n",
       "\n",
       "\\emph{Levels}: \\begin{enumerate*}\n",
       "\\item 'Benign'\n",
       "\\item 'Malignant'\n",
       "\\end{enumerate*}\n"
      ],
      "text/markdown": [
       "1. Benign\n",
       "2. Benign\n",
       "3. Benign\n",
       "4. Benign\n",
       "5. Benign\n",
       "\n",
       "\n",
       "\n",
       "**Levels**: 1. 'Benign'\n",
       "2. 'Malignant'\n",
       "\n",
       "\n"
      ],
      "text/plain": [
       "[1] Benign Benign Benign Benign Benign\n",
       "Levels: Benign Malignant"
      ]
     },
     "metadata": {},
     "output_type": "display_data"
    }
   ],
   "source": [
    "wbcd_train_labels[1:5]"
   ]
  },
  {
   "cell_type": "code",
   "execution_count": 27,
   "metadata": {
    "collapsed": false
   },
   "outputs": [
    {
     "data": {
      "text/html": [
       "<ol class=list-inline>\n",
       "\t<li>Benign</li>\n",
       "\t<li>Benign</li>\n",
       "\t<li>Benign</li>\n",
       "\t<li>Benign</li>\n",
       "\t<li>Malignant</li>\n",
       "</ol>\n",
       "\n",
       "<details>\n",
       "\t<summary style=display:list-item;cursor:pointer>\n",
       "\t\t<strong>Levels</strong>:\n",
       "\t</summary>\n",
       "\t<ol class=list-inline>\n",
       "\t\t<li>'Benign'</li>\n",
       "\t\t<li>'Malignant'</li>\n",
       "\t</ol>\n",
       "</details>"
      ],
      "text/latex": [
       "\\begin{enumerate*}\n",
       "\\item Benign\n",
       "\\item Benign\n",
       "\\item Benign\n",
       "\\item Benign\n",
       "\\item Malignant\n",
       "\\end{enumerate*}\n",
       "\n",
       "\\emph{Levels}: \\begin{enumerate*}\n",
       "\\item 'Benign'\n",
       "\\item 'Malignant'\n",
       "\\end{enumerate*}\n"
      ],
      "text/markdown": [
       "1. Benign\n",
       "2. Benign\n",
       "3. Benign\n",
       "4. Benign\n",
       "5. Malignant\n",
       "\n",
       "\n",
       "\n",
       "**Levels**: 1. 'Benign'\n",
       "2. 'Malignant'\n",
       "\n",
       "\n"
      ],
      "text/plain": [
       "[1] Benign    Benign    Benign    Benign    Malignant\n",
       "Levels: Benign Malignant"
      ]
     },
     "metadata": {},
     "output_type": "display_data"
    }
   ],
   "source": [
    "wbcd_test_labels[1:5]"
   ]
  },
  {
   "cell_type": "code",
   "execution_count": null,
   "metadata": {
    "collapsed": true
   },
   "outputs": [],
   "source": [
    "## Step 3: Training a model on the data ----"
   ]
  },
  {
   "cell_type": "code",
   "execution_count": 28,
   "metadata": {
    "collapsed": true
   },
   "outputs": [],
   "source": [
    "# load the \"class\" library\n",
    "library(class)"
   ]
  },
  {
   "cell_type": "code",
   "execution_count": 29,
   "metadata": {
    "collapsed": true
   },
   "outputs": [],
   "source": [
    "wbcd_test_pred<- knn(train=wbcd_train,test=wbcd_test,cl=wbcd_train_labels,k=21)"
   ]
  },
  {
   "cell_type": "code",
   "execution_count": 30,
   "metadata": {
    "collapsed": false
   },
   "outputs": [
    {
     "data": {
      "text/html": [
       "<ol class=list-inline>\n",
       "\t<li>Benign</li>\n",
       "\t<li>Benign</li>\n",
       "\t<li>Benign</li>\n",
       "</ol>\n",
       "\n",
       "<details>\n",
       "\t<summary style=display:list-item;cursor:pointer>\n",
       "\t\t<strong>Levels</strong>:\n",
       "\t</summary>\n",
       "\t<ol class=list-inline>\n",
       "\t\t<li>'Benign'</li>\n",
       "\t\t<li>'Malignant'</li>\n",
       "\t</ol>\n",
       "</details>"
      ],
      "text/latex": [
       "\\begin{enumerate*}\n",
       "\\item Benign\n",
       "\\item Benign\n",
       "\\item Benign\n",
       "\\end{enumerate*}\n",
       "\n",
       "\\emph{Levels}: \\begin{enumerate*}\n",
       "\\item 'Benign'\n",
       "\\item 'Malignant'\n",
       "\\end{enumerate*}\n"
      ],
      "text/markdown": [
       "1. Benign\n",
       "2. Benign\n",
       "3. Benign\n",
       "\n",
       "\n",
       "\n",
       "**Levels**: 1. 'Benign'\n",
       "2. 'Malignant'\n",
       "\n",
       "\n"
      ],
      "text/plain": [
       "[1] Benign Benign Benign\n",
       "Levels: Benign Malignant"
      ]
     },
     "metadata": {},
     "output_type": "display_data"
    }
   ],
   "source": [
    "wbcd_test_pred[1:3]"
   ]
  },
  {
   "cell_type": "code",
   "execution_count": null,
   "metadata": {
    "collapsed": true
   },
   "outputs": [],
   "source": [
    "## Step 4: Evaluating model performance ----"
   ]
  },
  {
   "cell_type": "code",
   "execution_count": 33,
   "metadata": {
    "collapsed": false
   },
   "outputs": [],
   "source": [
    "# load the \"gmodels\" library\n",
    "library(gmodels)"
   ]
  },
  {
   "cell_type": "code",
   "execution_count": null,
   "metadata": {
    "collapsed": true
   },
   "outputs": [],
   "source": [
    "# Create the cross tabulation of predicted vs. actual"
   ]
  },
  {
   "cell_type": "code",
   "execution_count": 35,
   "metadata": {
    "collapsed": false
   },
   "outputs": [
    {
     "name": "stdout",
     "output_type": "stream",
     "text": [
      "\n",
      " \n",
      "   Cell Contents\n",
      "|-------------------------|\n",
      "|                       N |\n",
      "| Chi-square contribution |\n",
      "|           N / Row Total |\n",
      "|           N / Col Total |\n",
      "|         N / Table Total |\n",
      "|-------------------------|\n",
      "\n",
      " \n",
      "Total Observations in Table:  100 \n",
      "\n",
      " \n",
      "                 | wbcd_test_pred \n",
      "wbcd_test_labels |    Benign | Malignant | Row Total | \n",
      "-----------------|-----------|-----------|-----------|\n",
      "          Benign |        61 |         0 |        61 | \n",
      "                 |    13.255 |    22.570 |           | \n",
      "                 |     1.000 |     0.000 |     0.610 | \n",
      "                 |     0.968 |     0.000 |           | \n",
      "                 |     0.610 |     0.000 |           | \n",
      "-----------------|-----------|-----------|-----------|\n",
      "       Malignant |         2 |        37 |        39 | \n",
      "                 |    20.733 |    35.302 |           | \n",
      "                 |     0.051 |     0.949 |     0.390 | \n",
      "                 |     0.032 |     1.000 |           | \n",
      "                 |     0.020 |     0.370 |           | \n",
      "-----------------|-----------|-----------|-----------|\n",
      "    Column Total |        63 |        37 |       100 | \n",
      "                 |     0.630 |     0.370 |           | \n",
      "-----------------|-----------|-----------|-----------|\n",
      "\n",
      " \n"
     ]
    }
   ],
   "source": [
    "CrossTable(x=wbcd_test_labels,y=wbcd_test_pred,prod.chisq=FALSE)"
   ]
  },
  {
   "cell_type": "code",
   "execution_count": 36,
   "metadata": {
    "collapsed": true
   },
   "outputs": [],
   "source": [
    "## Step 5: Improving model performance ----"
   ]
  },
  {
   "cell_type": "code",
   "execution_count": 37,
   "metadata": {
    "collapsed": true
   },
   "outputs": [],
   "source": [
    "# use the scale() function to z-score standardize a data frame\n",
    "wbcd_z<- as.data.frame(scale(wbcd[-1]))"
   ]
  },
  {
   "cell_type": "code",
   "execution_count": 40,
   "metadata": {
    "collapsed": false
   },
   "outputs": [
    {
     "data": {
      "text/html": [
       "<table>\n",
       "<thead><tr><th scope=col>diagnosis</th><th scope=col>radius_mean</th><th scope=col>texture_mean</th><th scope=col>perimeter_mean</th><th scope=col>area_mean</th><th scope=col>smoothness_mean</th><th scope=col>compactness_mean</th><th scope=col>concavity_mean</th><th scope=col>points_mean</th><th scope=col>symmetry_mean</th><th scope=col>⋯</th><th scope=col>radius_worst</th><th scope=col>texture_worst</th><th scope=col>perimeter_worst</th><th scope=col>area_worst</th><th scope=col>smoothness_worst</th><th scope=col>compactness_worst</th><th scope=col>concavity_worst</th><th scope=col>points_worst</th><th scope=col>symmetry_worst</th><th scope=col>dimension_worst</th></tr></thead>\n",
       "<tbody>\n",
       "\t<tr><td>Benign </td><td>12.32  </td><td>12.39  </td><td>78.85  </td><td>464.1  </td><td>0.10280</td><td>0.06981</td><td>0.03987</td><td>0.03700</td><td>0.1959 </td><td>⋯      </td><td>13.50  </td><td>15.64  </td><td> 86.97 </td><td>549.1  </td><td>0.1385 </td><td>0.1266 </td><td>0.12420</td><td>0.09391</td><td>0.2827 </td><td>0.06771</td></tr>\n",
       "\t<tr><td>Benign </td><td>10.60  </td><td>18.95  </td><td>69.28  </td><td>346.4  </td><td>0.09688</td><td>0.11470</td><td>0.06387</td><td>0.02642</td><td>0.1922 </td><td>⋯      </td><td>11.88  </td><td>22.94  </td><td> 78.28 </td><td>424.8  </td><td>0.1213 </td><td>0.2515 </td><td>0.19160</td><td>0.07926</td><td>0.2940 </td><td>0.07587</td></tr>\n",
       "\t<tr><td>Benign </td><td>11.04  </td><td>16.83  </td><td>70.92  </td><td>373.2  </td><td>0.10770</td><td>0.07804</td><td>0.03046</td><td>0.02480</td><td>0.1714 </td><td>⋯      </td><td>12.41  </td><td>26.44  </td><td> 79.93 </td><td>471.4  </td><td>0.1369 </td><td>0.1482 </td><td>0.10670</td><td>0.07431</td><td>0.2998 </td><td>0.07881</td></tr>\n",
       "\t<tr><td>Benign </td><td>11.28  </td><td>13.39  </td><td>73.00  </td><td>384.8  </td><td>0.11640</td><td>0.11360</td><td>0.04635</td><td>0.04796</td><td>0.1771 </td><td>⋯      </td><td>11.92  </td><td>15.77  </td><td> 76.53 </td><td>434.0  </td><td>0.1367 </td><td>0.1822 </td><td>0.08669</td><td>0.08611</td><td>0.2102 </td><td>0.06784</td></tr>\n",
       "\t<tr><td>Benign </td><td>15.19  </td><td>13.21  </td><td>97.65  </td><td>711.8  </td><td>0.07963</td><td>0.06934</td><td>0.03393</td><td>0.02657</td><td>0.1721 </td><td>⋯      </td><td>16.20  </td><td>15.73  </td><td>104.50 </td><td>819.1  </td><td>0.1126 </td><td>0.1737 </td><td>0.13620</td><td>0.08178</td><td>0.2487 </td><td>0.06766</td></tr>\n",
       "\t<tr><td>Benign </td><td>11.57  </td><td>19.04  </td><td>74.20  </td><td>409.7  </td><td>0.08546</td><td>0.07722</td><td>0.05485</td><td>0.01428</td><td>0.2031 </td><td>⋯      </td><td>13.07  </td><td>26.98  </td><td> 86.43 </td><td>520.5  </td><td>0.1249 </td><td>0.1937 </td><td>0.25600</td><td>0.06664</td><td>0.3035 </td><td>0.08284</td></tr>\n",
       "</tbody>\n",
       "</table>\n"
      ],
      "text/latex": [
       "\\begin{tabular}{r|lllllllllllllllllllllllllllllll}\n",
       " diagnosis & radius\\_mean & texture\\_mean & perimeter\\_mean & area\\_mean & smoothness\\_mean & compactness\\_mean & concavity\\_mean & points\\_mean & symmetry\\_mean & ⋯ & radius\\_worst & texture\\_worst & perimeter\\_worst & area\\_worst & smoothness\\_worst & compactness\\_worst & concavity\\_worst & points\\_worst & symmetry\\_worst & dimension\\_worst\\\\\n",
       "\\hline\n",
       "\t Benign  & 12.32   & 12.39   & 78.85   & 464.1   & 0.10280 & 0.06981 & 0.03987 & 0.03700 & 0.1959  & ⋯       & 13.50   & 15.64   &  86.97  & 549.1   & 0.1385  & 0.1266  & 0.12420 & 0.09391 & 0.2827  & 0.06771\\\\\n",
       "\t Benign  & 10.60   & 18.95   & 69.28   & 346.4   & 0.09688 & 0.11470 & 0.06387 & 0.02642 & 0.1922  & ⋯       & 11.88   & 22.94   &  78.28  & 424.8   & 0.1213  & 0.2515  & 0.19160 & 0.07926 & 0.2940  & 0.07587\\\\\n",
       "\t Benign  & 11.04   & 16.83   & 70.92   & 373.2   & 0.10770 & 0.07804 & 0.03046 & 0.02480 & 0.1714  & ⋯       & 12.41   & 26.44   &  79.93  & 471.4   & 0.1369  & 0.1482  & 0.10670 & 0.07431 & 0.2998  & 0.07881\\\\\n",
       "\t Benign  & 11.28   & 13.39   & 73.00   & 384.8   & 0.11640 & 0.11360 & 0.04635 & 0.04796 & 0.1771  & ⋯       & 11.92   & 15.77   &  76.53  & 434.0   & 0.1367  & 0.1822  & 0.08669 & 0.08611 & 0.2102  & 0.06784\\\\\n",
       "\t Benign  & 15.19   & 13.21   & 97.65   & 711.8   & 0.07963 & 0.06934 & 0.03393 & 0.02657 & 0.1721  & ⋯       & 16.20   & 15.73   & 104.50  & 819.1   & 0.1126  & 0.1737  & 0.13620 & 0.08178 & 0.2487  & 0.06766\\\\\n",
       "\t Benign  & 11.57   & 19.04   & 74.20   & 409.7   & 0.08546 & 0.07722 & 0.05485 & 0.01428 & 0.2031  & ⋯       & 13.07   & 26.98   &  86.43  & 520.5   & 0.1249  & 0.1937  & 0.25600 & 0.06664 & 0.3035  & 0.08284\\\\\n",
       "\\end{tabular}\n"
      ],
      "text/markdown": [
       "\n",
       "diagnosis | radius_mean | texture_mean | perimeter_mean | area_mean | smoothness_mean | compactness_mean | concavity_mean | points_mean | symmetry_mean | ⋯ | radius_worst | texture_worst | perimeter_worst | area_worst | smoothness_worst | compactness_worst | concavity_worst | points_worst | symmetry_worst | dimension_worst | \n",
       "|---|---|---|---|---|---|\n",
       "| Benign  | 12.32   | 12.39   | 78.85   | 464.1   | 0.10280 | 0.06981 | 0.03987 | 0.03700 | 0.1959  | ⋯       | 13.50   | 15.64   |  86.97  | 549.1   | 0.1385  | 0.1266  | 0.12420 | 0.09391 | 0.2827  | 0.06771 | \n",
       "| Benign  | 10.60   | 18.95   | 69.28   | 346.4   | 0.09688 | 0.11470 | 0.06387 | 0.02642 | 0.1922  | ⋯       | 11.88   | 22.94   |  78.28  | 424.8   | 0.1213  | 0.2515  | 0.19160 | 0.07926 | 0.2940  | 0.07587 | \n",
       "| Benign  | 11.04   | 16.83   | 70.92   | 373.2   | 0.10770 | 0.07804 | 0.03046 | 0.02480 | 0.1714  | ⋯       | 12.41   | 26.44   |  79.93  | 471.4   | 0.1369  | 0.1482  | 0.10670 | 0.07431 | 0.2998  | 0.07881 | \n",
       "| Benign  | 11.28   | 13.39   | 73.00   | 384.8   | 0.11640 | 0.11360 | 0.04635 | 0.04796 | 0.1771  | ⋯       | 11.92   | 15.77   |  76.53  | 434.0   | 0.1367  | 0.1822  | 0.08669 | 0.08611 | 0.2102  | 0.06784 | \n",
       "| Benign  | 15.19   | 13.21   | 97.65   | 711.8   | 0.07963 | 0.06934 | 0.03393 | 0.02657 | 0.1721  | ⋯       | 16.20   | 15.73   | 104.50  | 819.1   | 0.1126  | 0.1737  | 0.13620 | 0.08178 | 0.2487  | 0.06766 | \n",
       "| Benign  | 11.57   | 19.04   | 74.20   | 409.7   | 0.08546 | 0.07722 | 0.05485 | 0.01428 | 0.2031  | ⋯       | 13.07   | 26.98   |  86.43  | 520.5   | 0.1249  | 0.1937  | 0.25600 | 0.06664 | 0.3035  | 0.08284 | \n",
       "\n",
       "\n"
      ],
      "text/plain": [
       "  diagnosis radius_mean texture_mean perimeter_mean area_mean smoothness_mean\n",
       "1 Benign    12.32       12.39        78.85          464.1     0.10280        \n",
       "2 Benign    10.60       18.95        69.28          346.4     0.09688        \n",
       "3 Benign    11.04       16.83        70.92          373.2     0.10770        \n",
       "4 Benign    11.28       13.39        73.00          384.8     0.11640        \n",
       "5 Benign    15.19       13.21        97.65          711.8     0.07963        \n",
       "6 Benign    11.57       19.04        74.20          409.7     0.08546        \n",
       "  compactness_mean concavity_mean points_mean symmetry_mean ⋯ radius_worst\n",
       "1 0.06981          0.03987        0.03700     0.1959        ⋯ 13.50       \n",
       "2 0.11470          0.06387        0.02642     0.1922        ⋯ 11.88       \n",
       "3 0.07804          0.03046        0.02480     0.1714        ⋯ 12.41       \n",
       "4 0.11360          0.04635        0.04796     0.1771        ⋯ 11.92       \n",
       "5 0.06934          0.03393        0.02657     0.1721        ⋯ 16.20       \n",
       "6 0.07722          0.05485        0.01428     0.2031        ⋯ 13.07       \n",
       "  texture_worst perimeter_worst area_worst smoothness_worst compactness_worst\n",
       "1 15.64          86.97          549.1      0.1385           0.1266           \n",
       "2 22.94          78.28          424.8      0.1213           0.2515           \n",
       "3 26.44          79.93          471.4      0.1369           0.1482           \n",
       "4 15.77          76.53          434.0      0.1367           0.1822           \n",
       "5 15.73         104.50          819.1      0.1126           0.1737           \n",
       "6 26.98          86.43          520.5      0.1249           0.1937           \n",
       "  concavity_worst points_worst symmetry_worst dimension_worst\n",
       "1 0.12420         0.09391      0.2827         0.06771        \n",
       "2 0.19160         0.07926      0.2940         0.07587        \n",
       "3 0.10670         0.07431      0.2998         0.07881        \n",
       "4 0.08669         0.08611      0.2102         0.06784        \n",
       "5 0.13620         0.08178      0.2487         0.06766        \n",
       "6 0.25600         0.06664      0.3035         0.08284        "
      ]
     },
     "metadata": {},
     "output_type": "display_data"
    }
   ],
   "source": [
    "head(wbcd)"
   ]
  },
  {
   "cell_type": "code",
   "execution_count": 42,
   "metadata": {
    "collapsed": false
   },
   "outputs": [
    {
     "data": {
      "text/plain": [
       "   Min. 1st Qu.  Median    Mean 3rd Qu.    Max. \n",
       "-1.4532 -0.6666 -0.2949  0.0000  0.3632  5.2459 "
      ]
     },
     "metadata": {},
     "output_type": "display_data"
    }
   ],
   "source": [
    "\n",
    "# confirm that the transformation was applied correctly\n",
    "summary(wbcd_z$area_mean)"
   ]
  },
  {
   "cell_type": "code",
   "execution_count": 44,
   "metadata": {
    "collapsed": false
   },
   "outputs": [
    {
     "data": {
      "image/png": "[encoded data removed]",
      "text/plain": [
       "Plot with title “Histogram of wbcd_z$area_mean”"
      ]
     },
     "metadata": {},
     "output_type": "display_data"
    }
   ],
   "source": [
    "hist(wbcd_z$area_mean)"
   ]
  },
  {
   "cell_type": "code",
   "execution_count": 45,
   "metadata": {
    "collapsed": true
   },
   "outputs": [],
   "source": [
    "# create training and test datasets\n",
    "wbcd_train<- wbcd_z[1:469,]\n",
    "wbcd_test<- wbcd_z[470:569,]"
   ]
  },
  {
   "cell_type": "code",
   "execution_count": null,
   "metadata": {
    "collapsed": true
   },
   "outputs": [],
   "source": []
  },
  {
   "cell_type": "code",
   "execution_count": null,
   "metadata": {
    "collapsed": true
   },
   "outputs": [],
   "source": []
  },
  {
   "cell_type": "code",
   "execution_count": null,
   "metadata": {
    "collapsed": true
   },
   "outputs": [],
   "source": []
  },
  {
   "cell_type": "code",
   "execution_count": null,
   "metadata": {
    "collapsed": true
   },
   "outputs": [],
   "source": []
  },
  {
   "cell_type": "code",
   "execution_count": 22,
   "metadata": {
    "collapsed": false
   },
   "outputs": [
    {
     "ename": "ERROR",
     "evalue": "Error in knn(train = wbcd_train, test = wbcd_test, cl = wbcd_train_labels, :  関数 \"knn\" を見つけることができませんでした \n",
     "output_type": "error",
     "traceback": [
      "Error in knn(train = wbcd_train, test = wbcd_test, cl = wbcd_train_labels, :  関数 \"knn\" を見つけることができませんでした \nTraceback:\n"
     ]
    }
   ],
   "source": [
    "wbcd_test_pred<- knn(train=wbcd_train,test=wbcd_test,cl=wbcd_train_labels,k=1)\n"
   ]
  },
  {
   "cell_type": "code",
   "execution_count": null,
   "metadata": {
    "collapsed": true
   },
   "outputs": [],
   "source": [
    "CrossTable(x=wbcd_test_labels,y=wbcd_test_pred,prop.chisq=FALSE)"
   ]
  },
  {
   "cell_type": "code",
   "execution_count": null,
   "metadata": {
    "collapsed": true
   },
   "outputs": [],
   "source": []
  },
  {
   "cell_type": "code",
   "execution_count": null,
   "metadata": {
    "collapsed": true
   },
   "outputs": [],
   "source": []
  }
 ],
 "metadata": {
  "anaconda-cloud": {},
  "kernelspec": {
   "display_name": "R",
   "language": "R",
   "name": "ir"
  },
  "language_info": {
   "codemirror_mode": "r",
   "file_extension": ".r",
   "mimetype": "text/x-r-source",
   "name": "R",
   "pygments_lexer": "r",
   "version": "3.4.4"
  }
 },
 "nbformat": 4,
 "nbformat_minor": 1
}
